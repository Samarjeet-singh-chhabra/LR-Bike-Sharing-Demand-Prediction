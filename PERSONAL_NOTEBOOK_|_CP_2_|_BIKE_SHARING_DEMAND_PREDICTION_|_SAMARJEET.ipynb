{
  "nbformat": 4,
  "nbformat_minor": 0,
  "metadata": {
    "colab": {
      "provenance": [],
      "authorship_tag": "ABX9TyPYvZEA6XEyeVAwm+wxBOBJ",
      "include_colab_link": true
    },
    "kernelspec": {
      "name": "python3",
      "display_name": "Python 3"
    },
    "language_info": {
      "name": "python"
    }
  },
  "cells": [
    {
      "cell_type": "markdown",
      "metadata": {
        "id": "view-in-github",
        "colab_type": "text"
      },
      "source": [
        "<a href=\"https://colab.research.google.com/github/Samarjeet-singh-chhabra/LR-Bike-Sharing-Demand-Prediction/blob/main/PERSONAL_NOTEBOOK_%7C_CP_2_%7C_BIKE_SHARING_DEMAND_PREDICTION_%7C_SAMARJEET.ipynb\" target=\"_parent\"><img src=\"https://colab.research.google.com/assets/colab-badge.svg\" alt=\"Open In Colab\"/></a>"
      ]
    },
    {
      "cell_type": "code",
      "execution_count": null,
      "metadata": {
        "id": "jjDPo5XV13_C"
      },
      "outputs": [],
      "source": []
    }
  ]
}